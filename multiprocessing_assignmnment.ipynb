{
 "cells": [
  {
   "cell_type": "markdown",
   "id": "8b6dd31e-1b14-453a-9a4b-0cd7637233c8",
   "metadata": {},
   "source": [
    "#Q1\n",
    "Multiprocessing refers to the ability to run multiple processes simultaneously, utilizing processors. It involves creating and managing multiple processes. Each process has its memory space, allowing for true parallel execution of tasks.\n",
    "\n",
    "Multiprocessing is useful for the following reasons:\n",
    "\n",
    "Performance enhancement: multiprocessing takes advantage of the available CPU cores by utilizing multiple cores, enabling parallel execution of tasks.\n",
    "\n",
    "Responsiveness improvement: Multiprocessing helps maintain the responsiveness of an application by distributing the workload across multiple processes. This ensures that long-running or blocking operations in one process do not affect the responsiveness of the main program or other processes.\n",
    "\n",
    "Enhanced Resource Utilization: Since each process has its own memory space, multiprocessing allows efficient utilization of system resources. It enables better utilization of CPU cores and can effectively utilize more system memory compared to multithreading.\n",
    "\n",
    "Avoiding Global Interpreter Lock (GIL): Python's Global Interpreter Lock (GIL) limits the execution of Python threads to a single core at a time, preventing true parallelism. Multiprocessing bypasses the GIL as each process has its own Python interpreter instance, allowing for true parallel execution."
   ]
  },
  {
   "cell_type": "raw",
   "id": "4c490395-52ef-4e73-9dbb-ad4fe2d07f8f",
   "metadata": {},
   "source": [
    "#2 In Multiprocessing, CPUs are added for increasing computing power. While In Multithreading, many threads are created of a single process for increasing computing power.\n",
    "\n",
    "in Multiprocessing, many processes are executed simultaneously.\tWhile in multithreading, many threads of a process are executed simultaneously.\n",
    "\n",
    "Multiprocessing are classified into Symmetric and Asymmetric. While Multithreading is not classified in any categories.\n",
    "\n",
    "In Multiprocessing, Process creation is a time-consuming process.\tWhile in Multithreading, process creation is according to economical.\n",
    "\n"
   ]
  },
  {
   "cell_type": "code",
   "execution_count": 1,
   "id": "4547b957-1c69-47c7-8032-6a7d88e303a2",
   "metadata": {},
   "outputs": [
    {
     "name": "stdout",
     "output_type": "stream",
     "text": [
      "this is my module\n",
      "this is multiprocessing module\n"
     ]
    }
   ],
   "source": [
    "#Q3\n",
    "import multiprocessing\n",
    "def test():\n",
    "    print(\"this is multiprocessing module\")\n",
    "    \n",
    "if __name__=='__main__':\n",
    "    m = multiprocessing.Process(target=test)\n",
    "    print(\"this is my module\")\n",
    "    m.start()\n",
    "    m.join()"
   ]
  },
  {
   "cell_type": "raw",
   "id": "64af4c66-b2e3-49d7-ad65-43f2c726edc0",
   "metadata": {},
   "source": [
    "#Q4\n",
    "Multiprocessing pool refers to a feature provided by the multiprocessing module called a \"pool of worker processes.\" It allows us to create a group of worker processes that can execute tasks in parallel.\n",
    "\n",
    "It is used to distribute the workload across multiple processes, thereby leveraging the power of multiple CPU cores or processors. It provides a convenient way to parallelize the execution of a function across a large dataset or multiple independent tasks.\n"
   ]
  },
  {
   "cell_type": "markdown",
   "id": "8aada06f-16f3-4b5b-9026-645e4da292f9",
   "metadata": {},
   "source": [
    "#Q5 we can create a pool of worker processes using the multiprocessing module's Pool class. Steps to create a pool of worker processes:\n",
    "\n",
    "Import the multiprocessing module\n",
    "\n",
    "Create a Pool object. The Pool object will represent the pool of worker processes.\n",
    "\n",
    "Specify the number of worker processes that you want to create. The default number of worker processes is equal to the number of logical CPU cores in your system.\n",
    "\n",
    "Submit tasks to the Pool object. The Pool object has a submit() method that you can use to submit tasks to the pool of worker processes.\n",
    "\n",
    "Wait for the tasks to complete. The Pool object has a close() method that you can use to signal the worker processes to stop executing tasks. The Pool object also has a join() method that you can use to wait for all of the tasks to complete before continuing execution."
   ]
  },
  {
   "cell_type": "code",
   "execution_count": 7,
   "id": "22abc67d-186a-4246-8c59-e54a1004c774",
   "metadata": {},
   "outputs": [
    {
     "name": "stdout",
     "output_type": "stream",
     "text": [
      "Process ID:  1888Process ID:\n",
      "Number:1891Process ID: \n",
      "1 Number:\n",
      "1898 \n",
      "2Process ID:Number:\n",
      "  19193\n",
      "\n",
      "Number: 4\n"
     ]
    }
   ],
   "source": [
    "#Q6\n",
    "\n",
    "import multiprocessing\n",
    "\n",
    "def print_number(num):\n",
    "    \n",
    "    print(\"Process ID:\", multiprocessing.current_process().pid)\n",
    "    print(\"Number:\", num)\n",
    "\n",
    "if __name__ == '__main__':\n",
    "    numbers = [1, 2, 3, 4]\n",
    "    processes = []\n",
    "    for number in numbers:\n",
    "        process = multiprocessing.Process(target=print_number, args=(number,))\n",
    "        processes.append(process)\n",
    "        process.start()\n",
    "    for process in processes:\n",
    "        process.join()"
   ]
  }
 ],
 "metadata": {
  "kernelspec": {
   "display_name": "Python 3 (ipykernel)",
   "language": "python",
   "name": "python3"
  },
  "language_info": {
   "codemirror_mode": {
    "name": "ipython",
    "version": 3
   },
   "file_extension": ".py",
   "mimetype": "text/x-python",
   "name": "python",
   "nbconvert_exporter": "python",
   "pygments_lexer": "ipython3",
   "version": "3.10.8"
  }
 },
 "nbformat": 4,
 "nbformat_minor": 5
}
